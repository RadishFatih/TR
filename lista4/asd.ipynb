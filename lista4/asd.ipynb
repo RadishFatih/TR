{
 "cells": [
  {
   "cell_type": "code",
   "execution_count": 758,
   "metadata": {},
   "outputs": [],
   "source": [
    "'''\n",
    "W tym pliku zdefiniowane sa funkcje potrzebne do kryterium Hurwitza\n",
    "'''\n",
    "import sympy as sp\n",
    "import numpy as np\n",
    "sp.init_printing(use_latex=True)\n",
    "sp.init_printing(use_unicode=True)\n",
    "s = sp.Symbol('s', real=True)\n",
    "k = sp.Symbol('k')\n",
    "\n",
    "\n",
    "def Hurwitz_sp(Yk):\n",
    "    '''\n",
    "    Funkcja sprawdzajaca stabilnosc transmitancji\n",
    "    INPUT: obiekt sp.Function\n",
    "    OUTPUT: macierz Hurwitza transmitancji(tex syndax), \n",
    "            wektor skladajacy się z wartosci podwyznacznikow macierzy\n",
    "    '''\n",
    "    # Zainicjowanie symboli\n",
    "    Y=Yk\n",
    "    #Y=sp.parse_expr(str,Yk)\n",
    "    L, M = sp.fraction(Y)  # podział na licznik i mianownik\n",
    "    Ywspolczynniki = sp.Poly(M, s)\n",
    "    Ywspolczynniki = Ywspolczynniki.all_coeffs()\n",
    "    # Rozpoczynam algorytm kryterium Hurwitza\n",
    "    Ystopien = len(Ywspolczynniki)-1\n",
    "    # Tworze wektory potrzebne do stworzenia macierzy Hurwitza\n",
    "    pTabParz = sp.Matrix([[]])\n",
    "    pTabNParz = sp.Matrix([[]])\n",
    "    pm = 0\n",
    "    pn = 0\n",
    "    for x in range(Ystopien):\n",
    "        pm = x*2\n",
    "        pn = x*2+1\n",
    "        if pm <= Ystopien:\n",
    "            pTabParz = pTabParz.col_insert(x, sp.Matrix([Ywspolczynniki[pm]]))\n",
    "        else:\n",
    "            pTabParz = pTabParz.col_insert(x, sp.Matrix([0]))\n",
    "        if pn <= Ystopien:\n",
    "            pTabNParz = pTabNParz.col_insert(\n",
    "                x, sp.Matrix([Ywspolczynniki[pn]]))\n",
    "        else:\n",
    "            pTabNParz = pTabNParz.col_insert(x, sp.Matrix([0]))\n",
    "    # Deklaruje macierz Hurwitza jako macierz zer\n",
    "    macierzHurwitza = sp.zeros(Ystopien, Ystopien)\n",
    "    # Algorytm zapusijacy macierz Hurwitza\n",
    "    parzyste = False\n",
    "    if Ystopien == 0:\n",
    "        macierzHurwitza = (sp.ones(1, 1))/Y\n",
    "    else:\n",
    "        for x in range(Ystopien):\n",
    "            if(parzyste == False):\n",
    "                macierzHurwitza.row_del(x)\n",
    "                macierzHurwitza = macierzHurwitza.row_insert(x, pTabNParz)\n",
    "                pTabNParz = pTabNParz.col_insert(0, sp.Matrix([0]))\n",
    "                pTabNParz.col_del(Ystopien)\n",
    "                parzyste = (not parzyste)\n",
    "            elif(parzyste == True):\n",
    "                macierzHurwitza.row_del(x)\n",
    "                macierzHurwitza = macierzHurwitza.row_insert(x, pTabParz)\n",
    "                pTabParz = pTabParz.col_insert(0, sp.Matrix([0]))\n",
    "                pTabParz.col_del(Ystopien)\n",
    "                parzyste = (not parzyste)\n",
    "    # Algorytm sprawdzajacy czy wszystkie podwyznaczniki sa dodatnie\n",
    "    macierzHurwitzaPomocnicza = macierzHurwitza.copy()\n",
    "    wyznacznikiHurwitza = []\n",
    "    for x in range(Ystopien):\n",
    "        wyznacznikiHurwitza.append(macierzHurwitzaPomocnicza.det())\n",
    "        if macierzHurwitzaPomocnicza.shape[0] > 0:\n",
    "            macierzHurwitzaPomocnicza.col_del(\n",
    "                macierzHurwitzaPomocnicza.shape[0]-1)\n",
    "            macierzHurwitzaPomocnicza.row_del(\n",
    "                macierzHurwitzaPomocnicza.shape[0]-1)\n",
    "        # Jesli wszystkie podwyznaczniki sa dodatnie to zmienna stabilnoscHurwitza jest rowna 1,\n",
    "        # w przeciwnym wypadku jest rowna 0\n",
    "    return macierzHurwitza, wyznacznikiHurwitza\n"
   ]
  },
  {
   "cell_type": "code",
   "execution_count": 759,
   "metadata": {},
   "outputs": [],
   "source": [
    "K_O_LIST = [1/((s+2)*(s+1)*(s-3))]\n",
    "# Transmitancje regulatora\n",
    "K_R_LIST = [k]\n",
    "#Transmitancje sprzężenia\n",
    "G_LIST = [1]\n",
    "ILOSC_PRZYKLADOW=len(K_O_LIST)\n"
   ]
  },
  {
   "cell_type": "code",
   "execution_count": 760,
   "metadata": {},
   "outputs": [],
   "source": [
    "K_Z_LIST = []\n",
    "for x in range(1):\n",
    "    K_Z_LIST.append(sp.simplify((K_O_LIST[x]*K_R_LIST[x])/(1+K_O_LIST[x]*K_R_LIST[x]*G_LIST[x])) )"
   ]
  },
  {
   "cell_type": "code",
   "execution_count": 761,
   "metadata": {},
   "outputs": [],
   "source": [
    "K_Z_L_LIST = []\n",
    "\n",
    "K_Z_M_LIST = []\n",
    "for x in K_Z_LIST:\n",
    "    K_Z_L_LIST.append(sp.fraction(x)[0])\n",
    "    K_Z_M_LIST.append(sp.fraction(x)[1])"
   ]
  },
  {
   "cell_type": "code",
   "execution_count": 762,
   "metadata": {},
   "outputs": [],
   "source": [
    "K_OLS_LIST = []\n",
    "for x in range(1):\n",
    "    K_OLS_LIST.append(sp.simplify((K_O_LIST[x]*K_R_LIST[x])))"
   ]
  },
  {
   "cell_type": "code",
   "execution_count": 763,
   "metadata": {},
   "outputs": [
    {
     "output_type": "execute_result",
     "data": {
      "text/plain": "       k        \n────────────────\n     3          \nk + s  - 7⋅s - 6",
      "image/png": "[encoded data removed]",
      "text/latex": "$\\displaystyle \\frac{k}{k + s^{3} - 7 s - 6}$"
     },
     "metadata": {},
     "execution_count": 763
    }
   ],
   "source": [
    "K_Z_LIST[0]"
   ]
  },
  {
   "cell_type": "code",
   "execution_count": 764,
   "metadata": {},
   "outputs": [
    {
     "output_type": "execute_result",
     "data": {
      "text/plain": "⎡0  k - 6    0  ⎤\n⎢               ⎥\n⎢1   -7      0  ⎥\n⎢               ⎥\n⎣0    0    k - 6⎦",
      "text/latex": "$\\displaystyle \\left[\\begin{matrix}0 & k - 6 & 0\\\\1 & -7 & 0\\\\0 & 0 & k - 6\\end{matrix}\\right]$"
     },
     "metadata": {},
     "execution_count": 764
    }
   ],
   "source": [
    "Hurwitz_sp(K_Z_LIST[0])[0]"
   ]
  },
  {
   "cell_type": "code",
   "execution_count": 765,
   "metadata": {},
   "outputs": [],
   "source": [
    "K_E_LIST = []\n",
    "for x in range(1):\n",
    "    K_E_LIST.append(sp.simplify(1/(1+K_OLS_LIST[x])))"
   ]
  },
  {
   "cell_type": "code",
   "execution_count": 766,
   "metadata": {},
   "outputs": [
    {
     "output_type": "execute_result",
     "data": {
      "text/plain": "   3            \n  s  - 7⋅s - 6  \n────────────────\n     3          \nk + s  - 7⋅s - 6",
      "image/png": "[encoded data removed]",
      "text/latex": "$\\displaystyle \\frac{s^{3} - 7 s - 6}{k + s^{3} - 7 s - 6}$"
     },
     "metadata": {},
     "execution_count": 766
    }
   ],
   "source": [
    "K_E_LIST[0]"
   ]
  },
  {
   "cell_type": "code",
   "execution_count": 767,
   "metadata": {},
   "outputs": [],
   "source": [
    "t = sp.Symbol('t', real=True)\n"
   ]
  },
  {
   "cell_type": "code",
   "execution_count": 768,
   "metadata": {},
   "outputs": [],
   "source": [
    "Y_0=[1,t,t**2,t+1]"
   ]
  },
  {
   "cell_type": "code",
   "execution_count": 769,
   "metadata": {},
   "outputs": [],
   "source": [
    "p=3"
   ]
  },
  {
   "cell_type": "code",
   "execution_count": 770,
   "metadata": {},
   "outputs": [],
   "source": [
    "Y_0_s=sp.laplace_transform(Y_0[p], t, s)[0]"
   ]
  },
  {
   "cell_type": "code",
   "execution_count": 771,
   "metadata": {},
   "outputs": [
    {
     "output_type": "execute_result",
     "data": {
      "text/plain": "        ⎛ 3          ⎞\n(s + 1)⋅⎝s  - 7⋅s - 6⎠\n──────────────────────\n   ⎛     3          ⎞ \n s⋅⎝k + s  - 7⋅s - 6⎠ ",
      "image/png": "[encoded data removed]",
      "text/latex": "$\\displaystyle \\frac{\\left(s + 1\\right) \\left(s^{3} - 7 s - 6\\right)}{s \\left(k + s^{3} - 7 s - 6\\right)}$"
     },
     "metadata": {},
     "execution_count": 771
    }
   ],
   "source": [
    "Y_0_s*K_E_LIST[0]*s"
   ]
  },
  {
   "cell_type": "code",
   "execution_count": 772,
   "metadata": {},
   "outputs": [
    {
     "output_type": "execute_result",
     "data": {
      "text/plain": "       ⎛  1  ⎞\n-∞⋅sign⎜─────⎟\n       ⎝k - 6⎠",
      "image/png": "[encoded data removed]",
      "text/latex": "$\\displaystyle - \\infty \\operatorname{sign}{\\left(\\frac{1}{k - 6} \\right)}$"
     },
     "metadata": {},
     "execution_count": 772
    }
   ],
   "source": [
    "sp.limit(s*Y_0_s*K_E_LIST[0],s,0)"
   ]
  },
  {
   "cell_type": "code",
   "execution_count": 773,
   "metadata": {},
   "outputs": [
    {
     "output_type": "stream",
     "name": "stdout",
     "text": "- \\infty \\operatorname{sign}{\\left(\\frac{1}{k - 6} \\right)}\n\\frac{s^{3} - 7 s - 6}{k + s^{3} - 7 s - 6}\n"
    }
   ],
   "source": [
    "print(sp.latex(sp.limit(s*Y_0_s*K_E_LIST[0],s,0)))\n",
    "print(sp.latex(K_E_LIST[0]))"
   ]
  },
  {
   "cell_type": "code",
   "execution_count": null,
   "metadata": {},
   "outputs": [],
   "source": []
  }
 ],
 "metadata": {
  "language_info": {
   "codemirror_mode": {
    "name": "ipython",
    "version": 3
   },
   "file_extension": ".py",
   "mimetype": "text/x-python",
   "name": "python",
   "nbconvert_exporter": "python",
   "pygments_lexer": "ipython3",
   "version": "3.8.2-final"
  },
  "orig_nbformat": 2,
  "kernelspec": {
   "name": "python38232bit661840755eaf4c6f805df088be9a3fce",
   "display_name": "Python 3.8.2 32-bit"
  }
 },
 "nbformat": 4,
 "nbformat_minor": 2
}